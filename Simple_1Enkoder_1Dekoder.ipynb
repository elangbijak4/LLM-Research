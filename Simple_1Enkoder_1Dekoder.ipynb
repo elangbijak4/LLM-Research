{
  "nbformat": 4,
  "nbformat_minor": 0,
  "metadata": {
    "colab": {
      "provenance": [],
      "authorship_tag": "ABX9TyNl3CWRy5akmokYZ9l9SItS",
      "include_colab_link": true
    },
    "kernelspec": {
      "name": "python3",
      "display_name": "Python 3"
    },
    "language_info": {
      "name": "python"
    }
  },
  "cells": [
    {
      "cell_type": "markdown",
      "metadata": {
        "id": "view-in-github",
        "colab_type": "text"
      },
      "source": [
        "<a href=\"https://colab.research.google.com/github/elangbijak4/LLM-Research/blob/main/Simple_1Enkoder_1Dekoder.ipynb\" target=\"_parent\"><img src=\"https://colab.research.google.com/assets/colab-badge.svg\" alt=\"Open In Colab\"/></a>"
      ]
    },
    {
      "cell_type": "code",
      "source": [
        "import torch\n",
        "import torch.nn as nn\n",
        "import torch.optim as optim"
      ],
      "metadata": {
        "id": "hbbJzgqLCu6W"
      },
      "execution_count": 1,
      "outputs": []
    },
    {
      "cell_type": "code",
      "execution_count": 2,
      "metadata": {
        "colab": {
          "base_uri": "https://localhost:8080/"
        },
        "id": "BdOvCPacClpv",
        "outputId": "0d3a019c-e101-44ab-f0e6-daea8c400eb4"
      },
      "outputs": [
        {
          "output_type": "stream",
          "name": "stderr",
          "text": [
            "/usr/local/lib/python3.10/dist-packages/torch/nn/modules/transformer.py:306: UserWarning: enable_nested_tensor is True, but self.use_nested_tensor is False because encoder_layer.self_attn.batch_first was not True(use batch_first for better inference performance)\n",
            "  warnings.warn(f\"enable_nested_tensor is True, but self.use_nested_tensor is False because {why_not_sparsity_fast_path}\")\n"
          ]
        },
        {
          "output_type": "stream",
          "name": "stdout",
          "text": [
            "Epoch [10/100], Loss: 1.7158\n",
            "Epoch [20/100], Loss: 1.1568\n",
            "Epoch [30/100], Loss: 0.8491\n",
            "Epoch [40/100], Loss: 0.5094\n",
            "Epoch [50/100], Loss: 0.3378\n",
            "Epoch [60/100], Loss: 0.2680\n",
            "Epoch [70/100], Loss: 0.1942\n",
            "Epoch [80/100], Loss: 0.1575\n",
            "Epoch [90/100], Loss: 0.1190\n",
            "Epoch [100/100], Loss: 0.1050\n",
            "Predicted sequence: tensor([[6, 6, 6, 6, 6]])\n"
          ]
        }
      ],
      "source": [
        "# Definisikan model transformer\n",
        "class TransformerModel(nn.Module):\n",
        "    def __init__(self, input_dim, embed_dim, nhead, dim_feedforward, output_dim):\n",
        "        super(TransformerModel, self).__init__()\n",
        "        self.embedding = nn.Embedding(input_dim, embed_dim)\n",
        "        self.transformer = nn.Transformer(\n",
        "            d_model=embed_dim,\n",
        "            nhead=nhead,\n",
        "            num_encoder_layers=1,\n",
        "            num_decoder_layers=1,\n",
        "            dim_feedforward=dim_feedforward\n",
        "        )\n",
        "        self.fc_out = nn.Linear(embed_dim, output_dim)\n",
        "\n",
        "    def forward(self, src, tgt):\n",
        "        src = self.embedding(src)\n",
        "        tgt = self.embedding(tgt)\n",
        "        src = src.permute(1, 0, 2)  # (seq_len, batch_size, embed_dim)\n",
        "        tgt = tgt.permute(1, 0, 2)  # (seq_len, batch_size, embed_dim)\n",
        "        output = self.transformer(src, tgt)\n",
        "        output = output.permute(1, 0, 2)  # (batch_size, seq_len, embed_dim)\n",
        "        output = self.fc_out(output)\n",
        "        return output\n",
        "\n",
        "# Hyperparameters\n",
        "input_dim = 10  # jumlah token dalam input\n",
        "embed_dim = 32  # dimensi embedding\n",
        "nhead = 2  # jumlah heads dalam multihead attention\n",
        "dim_feedforward = 64  # dimensi feedforward network\n",
        "output_dim = 10  # jumlah token dalam output\n",
        "seq_length = 5  # panjang sequence\n",
        "batch_size = 2  # ukuran batch\n",
        "num_epochs = 100  # jumlah epochs\n",
        "learning_rate = 0.001  # laju pembelajaran\n",
        "\n",
        "# Data dummy untuk training\n",
        "src = torch.randint(0, input_dim, (batch_size, seq_length))\n",
        "tgt = torch.randint(0, output_dim, (batch_size, seq_length))\n",
        "target_output = tgt.clone()\n",
        "\n",
        "# Model, loss function, dan optimizer\n",
        "model = TransformerModel(input_dim, embed_dim, nhead, dim_feedforward, output_dim)\n",
        "criterion = nn.CrossEntropyLoss()\n",
        "optimizer = optim.Adam(model.parameters(), lr=learning_rate)\n",
        "\n",
        "# Training loop\n",
        "for epoch in range(num_epochs):\n",
        "    model.train()\n",
        "    optimizer.zero_grad()\n",
        "    output = model(src, tgt[:, :-1])\n",
        "    loss = criterion(output.reshape(-1, output_dim), target_output[:, 1:].reshape(-1))\n",
        "    loss.backward()\n",
        "    optimizer.step()\n",
        "\n",
        "    if (epoch+1) % 10 == 0:\n",
        "        print(f'Epoch [{epoch+1}/{num_epochs}], Loss: {loss.item():.4f}')\n",
        "\n",
        "# Model inference (autoregressive decoding)\n",
        "model.eval()\n",
        "with torch.no_grad():\n",
        "    src = torch.randint(0, input_dim, (1, seq_length))  # input baru untuk prediksi\n",
        "    tgt = torch.zeros((1, seq_length), dtype=torch.long)  # inisialisasi output sequence\n",
        "    for i in range(seq_length):\n",
        "        output = model(src, tgt[:, :i+1])\n",
        "        tgt[:, i] = output.argmax(dim=-1)[:, i]\n",
        "\n",
        "    print(\"Predicted sequence:\", tgt)"
      ]
    }
  ]
}