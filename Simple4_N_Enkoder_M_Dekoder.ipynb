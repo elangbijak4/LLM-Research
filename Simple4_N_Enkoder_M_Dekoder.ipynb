{
  "nbformat": 4,
  "nbformat_minor": 0,
  "metadata": {
    "colab": {
      "provenance": [],
      "authorship_tag": "ABX9TyNJOMu2pLTAN17yCnhNTVov",
      "include_colab_link": true
    },
    "kernelspec": {
      "name": "python3",
      "display_name": "Python 3"
    },
    "language_info": {
      "name": "python"
    }
  },
  "cells": [
    {
      "cell_type": "markdown",
      "metadata": {
        "id": "view-in-github",
        "colab_type": "text"
      },
      "source": [
        "<a href=\"https://colab.research.google.com/github/elangbijak4/LLM-Research/blob/main/Simple4_N_Enkoder_M_Dekoder.ipynb\" target=\"_parent\"><img src=\"https://colab.research.google.com/assets/colab-badge.svg\" alt=\"Open In Colab\"/></a>"
      ]
    },
    {
      "cell_type": "code",
      "source": [
        "import torch\n",
        "import torch.nn as nn\n",
        "import torch.optim as optim"
      ],
      "metadata": {
        "id": "hbbJzgqLCu6W"
      },
      "execution_count": 1,
      "outputs": []
    },
    {
      "cell_type": "code",
      "source": [
        "from gensim.models import Word2Vec\n",
        "from gensim.utils import simple_preprocess"
      ],
      "metadata": {
        "id": "XMnoGsTPE47e"
      },
      "execution_count": 3,
      "outputs": []
    },
    {
      "cell_type": "code",
      "source": [
        "# Step 1: Train Word2Vec model\n",
        "sentences = [\n",
        "    ['hello', 'world'],\n",
        "    ['hi', 'there'],\n",
        "    ['how', 'are', 'you'],\n",
        "    ['i', 'am', 'fine'],\n",
        "    ['hello', 'how', 'are', 'you'],\n",
        "    ['i', 'am', 'doing', 'well'],\n",
        "    ['good', 'morning'],\n",
        "    ['good', 'night'],\n",
        "    ['this', 'is', 'a', 'sentence'],\n",
        "    ['we', 'are', 'testing', 'the', 'model'],\n",
        "    ['please', 'generate', 'something', 'interesting']\n",
        "]\n",
        "\n",
        "word2vec_model = Word2Vec(sentences, vector_size=32, window=5, min_count=1, workers=4)\n",
        "word_vectors = word2vec_model.wv\n",
        "\n",
        "# Prepare vocabulary and embedding matrix\n",
        "vocab = list(word_vectors.key_to_index.keys())\n",
        "vocab.append('<eos>')\n",
        "vocab_size = len(vocab)\n",
        "embed_dim = word_vectors.vector_size\n",
        "\n",
        "word2idx = {word: idx for idx, word in enumerate(vocab)}\n",
        "idx2word = {idx: word for idx, word in enumerate(vocab)}\n",
        "embedding_matrix = torch.zeros((vocab_size, embed_dim))\n",
        "for word, idx in word2idx.items():\n",
        "    if word in word_vectors:\n",
        "        embedding_matrix[idx] = torch.tensor(word_vectors[word])\n",
        "\n",
        "# Step 2: Define Transformer model\n",
        "class TransformerModel(nn.Module):\n",
        "    def __init__(self, embed_dim, nhead, dim_feedforward, num_layers, output_dim):\n",
        "        super(TransformerModel, self).__init__()\n",
        "        self.embedding = nn.Embedding.from_pretrained(embedding_matrix, freeze=False)\n",
        "        self.transformer = nn.Transformer(\n",
        "            d_model=embed_dim,\n",
        "            nhead=nhead,\n",
        "            num_encoder_layers=num_layers,\n",
        "            num_decoder_layers=num_layers,\n",
        "            dim_feedforward=dim_feedforward\n",
        "        )\n",
        "        self.fc_out = nn.Linear(embed_dim, output_dim)\n",
        "\n",
        "    def forward(self, src, tgt):\n",
        "        src = self.embedding(src)\n",
        "        tgt = self.embedding(tgt)\n",
        "        src = src.permute(1, 0, 2)  # (seq_len, batch_size, embed_dim)\n",
        "        tgt = tgt.permute(1, 0, 2)  # (seq_len, batch_size, embed_dim)\n",
        "        output = self.transformer(src, tgt)\n",
        "        output = output.permute(1, 0, 2)  # (batch_size, seq_len, embed_dim)\n",
        "        output = self.fc_out(output)\n",
        "        return output\n",
        "\n",
        "# Hyperparameters\n",
        "nhead = 2\n",
        "dim_feedforward = 128\n",
        "num_layers = 4  # Increased number of layers\n",
        "output_dim = vocab_size\n",
        "seq_length = 5\n",
        "batch_size = 2\n",
        "num_epochs = 100\n",
        "learning_rate = 0.001\n",
        "\n",
        "# Dummy data for training\n",
        "def encode_sentence(sentence, word2idx, seq_length):\n",
        "    return [word2idx.get(word, word2idx['<eos>']) for word in sentence] + [word2idx['<eos>']] * (seq_length - len(sentence))\n",
        "\n",
        "src_sentences = [\n",
        "    ['hello', 'how', 'are', 'you'],\n",
        "    ['i', 'am', 'doing', 'well']\n",
        "]\n",
        "\n",
        "tgt_sentences = [\n",
        "    ['how', 'are', 'you', 'doing'],\n",
        "    ['am', 'doing', 'well', 'today']\n",
        "]\n",
        "\n",
        "src = torch.tensor([encode_sentence(sent, word2idx, seq_length) for sent in src_sentences])\n",
        "tgt = torch.tensor([encode_sentence(sent, word2idx, seq_length) for sent in tgt_sentences])\n",
        "target_output = tgt.clone()\n",
        "\n",
        "# Model, loss function, and optimizer\n",
        "model = TransformerModel(embed_dim, nhead, dim_feedforward, num_layers, output_dim)\n",
        "criterion = nn.CrossEntropyLoss()\n",
        "optimizer = optim.Adam(model.parameters(), lr=learning_rate)\n",
        "\n",
        "# Training loop\n",
        "for epoch in range(num_epochs):\n",
        "    model.train()\n",
        "    optimizer.zero_grad()\n",
        "    output = model(src, tgt[:, :-1])\n",
        "    loss = criterion(output.reshape(-1, output_dim), target_output[:, 1:].reshape(-1))\n",
        "    loss.backward()\n",
        "    optimizer.step()\n",
        "\n",
        "    if (epoch + 1) % 10 == 0:\n",
        "        print(f'Epoch [{epoch+1}/{num_epochs}], Loss: {loss.item():.4f}')\n",
        "\n",
        "# Inference (autoregressive decoding)\n",
        "def generate_sentence(model, prompt, max_length, word2idx, idx2word):\n",
        "    model.eval()\n",
        "    with torch.no_grad():\n",
        "        src = torch.tensor([encode_sentence(prompt, word2idx, max_length)])\n",
        "        tgt = torch.zeros((1, max_length), dtype=torch.long)\n",
        "        for i in range(max_length):\n",
        "            output = model(src, tgt[:, :i+1])\n",
        "            next_word_idx = output.argmax(dim=-1)[:, i].item()\n",
        "            tgt[0, i] = next_word_idx\n",
        "            if idx2word[next_word_idx] == '<eos>':\n",
        "                break\n",
        "        generated_sentence = [idx2word[idx.item()] for idx in tgt[0] if idx2word[idx.item()] != '<eos>']\n",
        "    return ' '.join(generated_sentence)\n",
        "\n",
        "prompt = ['hello']\n",
        "generated_sentence = generate_sentence(model, prompt, seq_length, word2idx, idx2word)\n",
        "print(\"Generated sentence:\", generated_sentence)"
      ],
      "metadata": {
        "colab": {
          "base_uri": "https://localhost:8080/"
        },
        "id": "0AsipwRKIMNw",
        "outputId": "76eeb807-ddd2-43dd-c54c-a59d99dbc099"
      },
      "execution_count": 11,
      "outputs": [
        {
          "output_type": "stream",
          "name": "stdout",
          "text": [
            "Epoch [10/100], Loss: 2.0835\n",
            "Epoch [20/100], Loss: 1.6237\n",
            "Epoch [30/100], Loss: 1.1716\n",
            "Epoch [40/100], Loss: 0.7045\n",
            "Epoch [50/100], Loss: 0.5762\n",
            "Epoch [60/100], Loss: 0.4195\n",
            "Epoch [70/100], Loss: 0.2741\n",
            "Epoch [80/100], Loss: 0.2318\n",
            "Epoch [90/100], Loss: 0.1654\n",
            "Epoch [100/100], Loss: 0.1454\n",
            "Generated sentence: you you you you you\n"
          ]
        }
      ]
    }
  ]
}