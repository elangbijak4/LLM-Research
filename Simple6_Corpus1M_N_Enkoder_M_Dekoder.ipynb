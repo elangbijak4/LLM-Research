{
  "nbformat": 4,
  "nbformat_minor": 0,
  "metadata": {
    "colab": {
      "provenance": [],
      "authorship_tag": "ABX9TyNrMYQaR9fhlvLqkLpNVBMG",
      "include_colab_link": true
    },
    "kernelspec": {
      "name": "python3",
      "display_name": "Python 3"
    },
    "language_info": {
      "name": "python"
    }
  },
  "cells": [
    {
      "cell_type": "markdown",
      "metadata": {
        "id": "view-in-github",
        "colab_type": "text"
      },
      "source": [
        "<a href=\"https://colab.research.google.com/github/elangbijak4/LLM-Research/blob/main/Simple6_Corpus1M_N_Enkoder_M_Dekoder.ipynb\" target=\"_parent\"><img src=\"https://colab.research.google.com/assets/colab-badge.svg\" alt=\"Open In Colab\"/></a>"
      ]
    },
    {
      "cell_type": "code",
      "source": [
        "import torch\n",
        "import torch.nn as nn\n",
        "import torch.nn.functional as F"
      ],
      "metadata": {
        "id": "fxVa03aZLNaD"
      },
      "execution_count": 1,
      "outputs": []
    },
    {
      "cell_type": "code",
      "source": [
        "# Contoh model dengan layer embedding\n",
        "class SimpleModel(nn.Module):\n",
        "    def __init__(self, vocab_size, embed_dim):\n",
        "        super(SimpleModel, self).__init__()\n",
        "        self.embedding = nn.Embedding(vocab_size, embed_dim)\n",
        "        self.fc = nn.Linear(embed_dim, vocab_size)\n",
        "\n",
        "    def forward(self, input_data):\n",
        "        embedded = self.embedding(input_data)  # input_data should be of type torch.long\n",
        "        output = self.fc(embedded)\n",
        "        return output\n",
        "\n",
        "# Inisialisasi model\n",
        "vocab_size = 10000\n",
        "embed_dim = 128\n",
        "model = SimpleModel(vocab_size, embed_dim)\n",
        "\n",
        "# Contoh input\n",
        "seq_length = 10\n",
        "batch_size = 32\n",
        "input_data = torch.randint(0, vocab_size, (seq_length, batch_size))  # Generate random integer indices\n",
        "\n",
        "# Pastikan tipe data input adalah torch.long\n",
        "input_data = input_data.long()\n",
        "\n",
        "# Forward pass\n",
        "output = model(input_data)\n",
        "print(\"Output shape:\", output.shape)"
      ],
      "metadata": {
        "colab": {
          "base_uri": "https://localhost:8080/"
        },
        "id": "qs25r7OMK5Ix",
        "outputId": "fcdbeaae-0046-4ccf-d3c6-84485baee6a7"
      },
      "execution_count": 4,
      "outputs": [
        {
          "output_type": "stream",
          "name": "stdout",
          "text": [
            "Output shape: torch.Size([10, 32, 10000])\n"
          ]
        }
      ]
    }
  ]
}