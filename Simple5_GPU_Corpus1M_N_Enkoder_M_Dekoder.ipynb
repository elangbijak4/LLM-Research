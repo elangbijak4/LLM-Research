{
  "nbformat": 4,
  "nbformat_minor": 0,
  "metadata": {
    "colab": {
      "provenance": [],
      "authorship_tag": "ABX9TyNZQQxMBT1TQDJWa8iC6ICL",
      "include_colab_link": true
    },
    "kernelspec": {
      "name": "python3",
      "display_name": "Python 3"
    },
    "language_info": {
      "name": "python"
    }
  },
  "cells": [
    {
      "cell_type": "markdown",
      "metadata": {
        "id": "view-in-github",
        "colab_type": "text"
      },
      "source": [
        "<a href=\"https://colab.research.google.com/github/elangbijak4/LLM-Research/blob/main/Simple5_GPU_Corpus1M_N_Enkoder_M_Dekoder.ipynb\" target=\"_parent\"><img src=\"https://colab.research.google.com/assets/colab-badge.svg\" alt=\"Open In Colab\"/></a>"
      ]
    },
    {
      "cell_type": "code",
      "source": [
        "import torch\n",
        "import torch.nn as nn\n",
        "import torch.optim as optim"
      ],
      "metadata": {
        "id": "hbbJzgqLCu6W"
      },
      "execution_count": 1,
      "outputs": []
    },
    {
      "cell_type": "code",
      "source": [
        "from gensim.models import Word2Vec\n",
        "from gensim.utils import simple_preprocess"
      ],
      "metadata": {
        "id": "XMnoGsTPE47e"
      },
      "execution_count": 3,
      "outputs": []
    },
    {
      "cell_type": "code",
      "source": [
        "# Pertama, mount Google Drive untuk akses corpus\n",
        "from google.colab import drive\n",
        "drive.mount('/content/drive')\n",
        "\n",
        "# Pastikan corpus berada di dalam Google Drive\n",
        "corpus_path = '/content/drive/My Drive/path_to_your_corpus.txt'"
      ],
      "metadata": {
        "id": "7XobChC0I5CR"
      },
      "execution_count": null,
      "outputs": []
    },
    {
      "cell_type": "code",
      "source": [
        "#Melatih model word2vec\n",
        "\n",
        "# Membaca corpus dan memproses data\n",
        "def read_corpus(file_path):\n",
        "    with open(file_path, 'r', encoding='utf-8') as f:\n",
        "        lines = f.readlines()\n",
        "    return [simple_preprocess(line) for line in lines]\n",
        "\n",
        "sentences = read_corpus(corpus_path)\n",
        "\n",
        "# Melatih model Word2Vec\n",
        "word2vec_model = Word2Vec(sentences, vector_size=32, window=5, min_count=1, workers=4)\n",
        "word_vectors = word2vec_model.wv\n",
        "\n",
        "# Mempersiapkan vocabulary dan embedding matrix\n",
        "vocab = list(word_vectors.key_to_index.keys())\n",
        "vocab.append('<eos>')\n",
        "vocab_size = len(vocab)\n",
        "embed_dim = word_vectors.vector_size\n",
        "\n",
        "word2idx = {word: idx for idx, word in enumerate(vocab)}\n",
        "idx2word = {idx: word for idx, word in enumerate(vocab)}\n",
        "embedding_matrix = torch.zeros((vocab_size, embed_dim))\n",
        "for word, idx in word2idx.items():\n",
        "    if word in word_vectors:\n",
        "        embedding_matrix[idx] = torch.tensor(word_vectors[word])"
      ],
      "metadata": {
        "id": "twgwPHS_I75M"
      },
      "execution_count": null,
      "outputs": []
    },
    {
      "cell_type": "code",
      "source": [
        "# Definisikan model Transformer\n",
        "class TransformerModel(nn.Module):\n",
        "    def __init__(self, embed_dim, nhead, dim_feedforward, num_layers, output_dim):\n",
        "        super(TransformerModel, self).__init__()\n",
        "        self.embedding = nn.Embedding.from_pretrained(embedding_matrix, freeze=False)\n",
        "        self.transformer = nn.Transformer(\n",
        "            d_model=embed_dim,\n",
        "            nhead=nhead,\n",
        "            num_encoder_layers=num_layers,\n",
        "            num_decoder_layers=num_layers,\n",
        "            dim_feedforward=dim_feedforward\n",
        "        )\n",
        "        self.fc_out = nn.Linear(embed_dim, output_dim)\n",
        "\n",
        "    def forward(self, src, tgt):\n",
        "        src = self.embedding(src)\n",
        "        tgt = self.embedding(tgt)\n",
        "        src = src.permute(1, 0, 2)  # (seq_len, batch_size, embed_dim)\n",
        "        tgt = tgt.permute(1, 0, 2)  # (seq_len, batch_size, embed_dim)\n",
        "        output = self.transformer(src, tgt)\n",
        "        output = output.permute(1, 0, 2)  # (batch_size, seq_len, embed_dim)\n",
        "        output = self.fc_out(output)\n",
        "        return output\n",
        "\n",
        "# Hyperparameters\n",
        "nhead = 2\n",
        "dim_feedforward = 128\n",
        "num_layers = 4\n",
        "output_dim = vocab_size\n",
        "seq_length = 10  # Disesuaikan dengan panjang kalimat dalam corpus\n",
        "batch_size = 64  # Batch size yang lebih besar untuk memanfaatkan GPU\n",
        "num_epochs = 10  # Sesuaikan dengan resource yang tersedia\n",
        "learning_rate = 0.001\n",
        "\n",
        "# Mempersiapkan data pelatihan\n",
        "def encode_sentence(sentence, word2idx, seq_length):\n",
        "    return [word2idx.get(word, word2idx['<eos>']) for word in sentence] + [word2idx['<eos>']] * (seq_length - len(sentence))\n",
        "\n",
        "# Membuat data pelatihan\n",
        "src_sentences = sentences[:50000]  # Misal menggunakan 50k kalimat untuk pelatihan\n",
        "tgt_sentences = [sent + ['<eos>'] for sent in src_sentences]  # Target adalah kalimat dengan tambahan token akhir\n",
        "\n",
        "src = torch.tensor([encode_sentence(sent, word2idx, seq_length) for sent in src_sentences])\n",
        "tgt = torch.tensor([encode_sentence(sent, word2idx, seq_length) for sent in tgt_sentences])\n",
        "target_output = tgt.clone()\n",
        "\n",
        "# Model, loss function, dan optimizer\n",
        "model = TransformerModel(embed_dim, nhead, dim_feedforward, num_layers, output_dim).cuda()  # Menggunakan GPU\n",
        "criterion = nn.CrossEntropyLoss()\n",
        "optimizer = optim.Adam(model.parameters(), lr=learning_rate)\n",
        "\n",
        "# Training loop\n",
        "for epoch in range(num_epochs):\n",
        "    model.train()\n",
        "    for i in range(0, len(src), batch_size):\n",
        "        src_batch = src[i:i+batch_size].cuda()\n",
        "        tgt_batch = tgt[i:i+batch_size, :-1].cuda()\n",
        "        target_batch = target_output[i:i+batch_size, 1:].cuda()\n",
        "\n",
        "        optimizer.zero_grad()\n",
        "        output = model(src_batch, tgt_batch)\n",
        "        loss = criterion(output.reshape(-1, output_dim), target_batch.reshape(-1))\n",
        "        loss.backward()\n",
        "        optimizer.step()\n",
        "\n",
        "    print(f'Epoch [{epoch+1}/{num_epochs}], Loss: {loss.item():.4f}')"
      ],
      "metadata": {
        "id": "U5k8lrz-JOA0"
      },
      "execution_count": null,
      "outputs": []
    },
    {
      "cell_type": "code",
      "source": [
        "# Fungsi untuk menghasilkan kalimat secara autoregresif\n",
        "def generate_sentence(model, prompt, max_length, word2idx, idx2word):\n",
        "    model.eval()\n",
        "    with torch.no_grad():\n",
        "        src = torch.tensor([encode_sentence(prompt, word2idx, max_length)]).cuda()\n",
        "        tgt = torch.zeros((1, max_length), dtype=torch.long).cuda()\n",
        "        for i in range(max_length):\n",
        "            output = model(src, tgt[:, :i+1])\n",
        "            next_word_idx = output.argmax(dim=-1)[:, i].item()\n",
        "            tgt[0, i] = next_word_idx\n",
        "            if idx2word[next_word_idx] == '<eos>':\n",
        "                break\n",
        "        generated_sentence = [idx2word[idx.item()] for idx in tgt[0] if idx2word[idx.item()] != '<eos>']\n",
        "    return ' '.join(generated_sentence)\n",
        "\n",
        "# Contoh penggunaan\n",
        "prompt = ['halo']\n",
        "generated_sentence = generate_sentence(model, prompt, seq_length, word2idx, idx2word)\n",
        "print(\"Generated sentence:\", generated_sentence)"
      ],
      "metadata": {
        "id": "Krx8zyLVJVH-"
      },
      "execution_count": null,
      "outputs": []
    }
  ]
}